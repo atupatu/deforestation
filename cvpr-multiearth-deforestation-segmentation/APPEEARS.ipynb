{
 "cells": [
  {
   "cell_type": "code",
   "execution_count": 1,
   "id": "7c92e516",
   "metadata": {},
   "outputs": [],
   "source": [
    "%matplotlib inline\n",
    "import pandas as pd\n",
    "import numpy as np\n",
    "from IPython.core.interactiveshell import InteractiveShell\n",
    "import random\n",
    "InteractiveShell.ast_node_interactivity = \"all\"\n",
    "import os\n",
    "from datetime import datetime\n",
    "import matplotlib.pyplot as plt\n",
    "import plotly.express as px\n",
    "import glob\n",
    "from tqdm import tqdm\n",
    "\n",
    "import plotly.figure_factory as ff\n",
    "import plotly.express as px\n",
    "import numpy as np\n",
    "import requests\n",
    "import json\n",
    "from datetime import datetime\n",
    "import tarfile\n",
    "pd.set_option('display.max_rows', 100)"
   ]
  },
  {
   "cell_type": "code",
   "execution_count": 2,
   "id": "a72c74b0",
   "metadata": {},
   "outputs": [],
   "source": [
    "from src.appeears_tools import (\n",
    "    get_appeears_token, list_appeears_tasks, get_appeears_files, download_appeears_file,\n",
    "    request_appeears_task, get_dates_df\n",
    ")\n",
    "from src.config import south_america_coordinates, REGIONS, SOUTH_AMERICA"
   ]
  },
  {
   "cell_type": "markdown",
   "id": "093fb1c1",
   "metadata": {},
   "source": [
    "## Login\n",
    "https://appeears.earthdatacloud.nasa.gov/api/#introduction\n",
    "\n",
    "The API leverages the same NASA Earthdata Login as the AρρEEARS user interface.\n",
    "\n",
    "Whenever a request is made to one of the secure API endpoints, HTTP Basic Authentication credentials are required. Authentication first requires a call to the login service using the NASA Earthdata Login username and password to generate a Bearer token. This Bearer token will be then used for all subsequent calls to secure endpoints. **This token will expire approximately 48 hours after being acquired.** All programs should check for an HTTP 403 Forbidden status code to successfully handle token expiration by acquiring a new token.\n",
    "\n",
    "Create"
   ]
  },
  {
   "cell_type": "code",
   "execution_count": 3,
   "id": "743de1b7",
   "metadata": {},
   "outputs": [
    {
     "data": {
      "text/plain": [
       "'clwwuoibJBxQWHl5fUzOGstNyacf9Sc24X0L1bUg29IUEVJNWRAJlXzB0ltmI8uSOUwyiIMprauSC0HiusGoww'"
      ]
     },
     "execution_count": 3,
     "metadata": {},
     "output_type": "execute_result"
    }
   ],
   "source": [
    "token = get_appeears_token()\n",
    "token"
   ]
  },
  {
   "cell_type": "markdown",
   "id": "a4aef69e",
   "metadata": {},
   "source": [
    "# List tasks"
   ]
  },
  {
   "cell_type": "code",
   "execution_count": 4,
   "id": "9b576909",
   "metadata": {},
   "outputs": [
    {
     "data": {
      "text/html": [
       "<div>\n",
       "<style scoped>\n",
       "    .dataframe tbody tr th:only-of-type {\n",
       "        vertical-align: middle;\n",
       "    }\n",
       "\n",
       "    .dataframe tbody tr th {\n",
       "        vertical-align: top;\n",
       "    }\n",
       "\n",
       "    .dataframe thead th {\n",
       "        text-align: right;\n",
       "    }\n",
       "</style>\n",
       "<table border=\"1\" class=\"dataframe\">\n",
       "  <thead>\n",
       "    <tr style=\"text-align: right;\">\n",
       "      <th></th>\n",
       "      <th>task_name</th>\n",
       "      <th>task_id</th>\n",
       "      <th>created</th>\n",
       "      <th>completed</th>\n",
       "      <th>estimate</th>\n",
       "      <th>status</th>\n",
       "    </tr>\n",
       "  </thead>\n",
       "  <tbody>\n",
       "    <tr>\n",
       "      <th>0</th>\n",
       "      <td>sa-2020-12</td>\n",
       "      <td>74e22449-02d0-4e07-9ff9-0f62c9ac4b06</td>\n",
       "      <td>2023-05-14T11:23:07.429356</td>\n",
       "      <td>2023-05-14T13:25:22.411030</td>\n",
       "      <td>{'request_size': 18658935783.429977, 'request_...</td>\n",
       "      <td>done</td>\n",
       "    </tr>\n",
       "    <tr>\n",
       "      <th>1</th>\n",
       "      <td>sa-2020-11</td>\n",
       "      <td>d5d7afd4-1c29-468c-b011-1c47cd6db002</td>\n",
       "      <td>2023-05-14T11:23:06.685921</td>\n",
       "      <td>2023-05-14T13:25:01.757892</td>\n",
       "      <td>{'request_size': 18658935783.429977, 'request_...</td>\n",
       "      <td>done</td>\n",
       "    </tr>\n",
       "    <tr>\n",
       "      <th>2</th>\n",
       "      <td>sa-2020-10</td>\n",
       "      <td>6d988dc0-63ae-4244-a8fc-a63e9c36473c</td>\n",
       "      <td>2023-05-14T11:23:05.315305</td>\n",
       "      <td>2023-05-14T13:23:31.614518</td>\n",
       "      <td>{'request_size': 18658935783.429977, 'request_...</td>\n",
       "      <td>done</td>\n",
       "    </tr>\n",
       "    <tr>\n",
       "      <th>3</th>\n",
       "      <td>sa-2020-09</td>\n",
       "      <td>6840ff49-0272-41e9-ae4c-9b978e59f3da</td>\n",
       "      <td>2023-05-14T11:23:04.302555</td>\n",
       "      <td>2023-05-14T13:21:40.325700</td>\n",
       "      <td>{'request_size': 18658935783.429977, 'request_...</td>\n",
       "      <td>done</td>\n",
       "    </tr>\n",
       "    <tr>\n",
       "      <th>4</th>\n",
       "      <td>sa-2020-08</td>\n",
       "      <td>846ff314-e371-49bc-a762-c06fe7eed7e7</td>\n",
       "      <td>2023-05-14T11:23:03.676877</td>\n",
       "      <td>2023-05-14T13:24:11.975166</td>\n",
       "      <td>{'request_size': 18658935783.429977, 'request_...</td>\n",
       "      <td>done</td>\n",
       "    </tr>\n",
       "  </tbody>\n",
       "</table>\n",
       "</div>"
      ],
      "text/plain": [
       "    task_name                               task_id   \n",
       "0  sa-2020-12  74e22449-02d0-4e07-9ff9-0f62c9ac4b06  \\\n",
       "1  sa-2020-11  d5d7afd4-1c29-468c-b011-1c47cd6db002   \n",
       "2  sa-2020-10  6d988dc0-63ae-4244-a8fc-a63e9c36473c   \n",
       "3  sa-2020-09  6840ff49-0272-41e9-ae4c-9b978e59f3da   \n",
       "4  sa-2020-08  846ff314-e371-49bc-a762-c06fe7eed7e7   \n",
       "\n",
       "                      created                   completed   \n",
       "0  2023-05-14T11:23:07.429356  2023-05-14T13:25:22.411030  \\\n",
       "1  2023-05-14T11:23:06.685921  2023-05-14T13:25:01.757892   \n",
       "2  2023-05-14T11:23:05.315305  2023-05-14T13:23:31.614518   \n",
       "3  2023-05-14T11:23:04.302555  2023-05-14T13:21:40.325700   \n",
       "4  2023-05-14T11:23:03.676877  2023-05-14T13:24:11.975166   \n",
       "\n",
       "                                            estimate status  \n",
       "0  {'request_size': 18658935783.429977, 'request_...   done  \n",
       "1  {'request_size': 18658935783.429977, 'request_...   done  \n",
       "2  {'request_size': 18658935783.429977, 'request_...   done  \n",
       "3  {'request_size': 18658935783.429977, 'request_...   done  \n",
       "4  {'request_size': 18658935783.429977, 'request_...   done  "
      ]
     },
     "execution_count": 4,
     "metadata": {},
     "output_type": "execute_result"
    }
   ],
   "source": [
    "tasks = list_appeears_tasks(token)\n",
    "tasks[[\"task_name\", \"task_id\", \"created\", \"completed\", \"estimate\", \"status\"]].head(5)"
   ]
  },
  {
   "cell_type": "code",
   "execution_count": 10,
   "id": "3aa8da99",
   "metadata": {},
   "outputs": [],
   "source": [
    "done = tasks[tasks.status == \"done\"]\n",
    "\n",
    "done = done[done.task_name.str.startswith(SOUTH_AMERICA)]\n",
    "\n",
    "done = done.sort_values(by='completed', ascending=False)\n",
    "# done['y'] = done.task_name.apply(lambda s: int(s.split('-')[1]))\n",
    "# done = done[done.y >= 2013]\n",
    "\n",
    "# done = done[done.task_name.str.startswith('amazon_patch_v2')]\n",
    "# done = done.head(1)\n",
    "\n",
    "# done = done.head(2)"
   ]
  },
  {
   "cell_type": "code",
   "execution_count": 11,
   "id": "20ed2214",
   "metadata": {},
   "outputs": [
    {
     "data": {
      "text/html": [
       "<div>\n",
       "<style scoped>\n",
       "    .dataframe tbody tr th:only-of-type {\n",
       "        vertical-align: middle;\n",
       "    }\n",
       "\n",
       "    .dataframe tbody tr th {\n",
       "        vertical-align: top;\n",
       "    }\n",
       "\n",
       "    .dataframe thead th {\n",
       "        text-align: right;\n",
       "    }\n",
       "</style>\n",
       "<table border=\"1\" class=\"dataframe\">\n",
       "  <thead>\n",
       "    <tr style=\"text-align: right;\">\n",
       "      <th></th>\n",
       "      <th>task_name</th>\n",
       "      <th>task_id</th>\n",
       "      <th>created</th>\n",
       "      <th>completed</th>\n",
       "      <th>estimate</th>\n",
       "      <th>status</th>\n",
       "    </tr>\n",
       "  </thead>\n",
       "  <tbody>\n",
       "    <tr>\n",
       "      <th>11</th>\n",
       "      <td>sa-2020-01</td>\n",
       "      <td>88044542-79b6-4bcd-9f42-87db0624beac</td>\n",
       "      <td>2023-05-14T11:22:58.406026</td>\n",
       "      <td>2023-05-14T13:35:59.888497</td>\n",
       "      <td>{'request_size': 18658935783.429977, 'request_...</td>\n",
       "      <td>done</td>\n",
       "    </tr>\n",
       "    <tr>\n",
       "      <th>0</th>\n",
       "      <td>sa-2020-12</td>\n",
       "      <td>74e22449-02d0-4e07-9ff9-0f62c9ac4b06</td>\n",
       "      <td>2023-05-14T11:23:07.429356</td>\n",
       "      <td>2023-05-14T13:25:22.411030</td>\n",
       "      <td>{'request_size': 18658935783.429977, 'request_...</td>\n",
       "      <td>done</td>\n",
       "    </tr>\n",
       "  </tbody>\n",
       "</table>\n",
       "</div>"
      ],
      "text/plain": [
       "     task_name                               task_id   \n",
       "11  sa-2020-01  88044542-79b6-4bcd-9f42-87db0624beac  \\\n",
       "0   sa-2020-12  74e22449-02d0-4e07-9ff9-0f62c9ac4b06   \n",
       "\n",
       "                       created                   completed   \n",
       "11  2023-05-14T11:22:58.406026  2023-05-14T13:35:59.888497  \\\n",
       "0   2023-05-14T11:23:07.429356  2023-05-14T13:25:22.411030   \n",
       "\n",
       "                                             estimate status  \n",
       "11  {'request_size': 18658935783.429977, 'request_...   done  \n",
       "0   {'request_size': 18658935783.429977, 'request_...   done  "
      ]
     },
     "execution_count": 11,
     "metadata": {},
     "output_type": "execute_result"
    },
    {
     "data": {
      "text/html": [
       "<div>\n",
       "<style scoped>\n",
       "    .dataframe tbody tr th:only-of-type {\n",
       "        vertical-align: middle;\n",
       "    }\n",
       "\n",
       "    .dataframe tbody tr th {\n",
       "        vertical-align: top;\n",
       "    }\n",
       "\n",
       "    .dataframe thead th {\n",
       "        text-align: right;\n",
       "    }\n",
       "</style>\n",
       "<table border=\"1\" class=\"dataframe\">\n",
       "  <thead>\n",
       "    <tr style=\"text-align: right;\">\n",
       "      <th></th>\n",
       "      <th>task_name</th>\n",
       "      <th>task_id</th>\n",
       "      <th>created</th>\n",
       "      <th>completed</th>\n",
       "      <th>estimate</th>\n",
       "      <th>status</th>\n",
       "    </tr>\n",
       "  </thead>\n",
       "  <tbody>\n",
       "    <tr>\n",
       "      <th>93</th>\n",
       "      <td>sa-2013-03</td>\n",
       "      <td>e4e22d61-f81a-42ca-a98e-afa7ea116a9a</td>\n",
       "      <td>2023-05-14T11:22:03.695796</td>\n",
       "      <td>2023-05-14T12:16:06.681754</td>\n",
       "      <td>{'request_size': 18658935783.429977, 'request_...</td>\n",
       "      <td>done</td>\n",
       "    </tr>\n",
       "    <tr>\n",
       "      <th>94</th>\n",
       "      <td>sa-2013-02</td>\n",
       "      <td>adc0789f-6159-4aab-9c88-6f90424f9fbf</td>\n",
       "      <td>2023-05-14T11:22:02.887531</td>\n",
       "      <td>2023-05-14T12:14:51.556806</td>\n",
       "      <td>{'request_size': 18658935783.429977, 'request_...</td>\n",
       "      <td>done</td>\n",
       "    </tr>\n",
       "  </tbody>\n",
       "</table>\n",
       "</div>"
      ],
      "text/plain": [
       "     task_name                               task_id   \n",
       "93  sa-2013-03  e4e22d61-f81a-42ca-a98e-afa7ea116a9a  \\\n",
       "94  sa-2013-02  adc0789f-6159-4aab-9c88-6f90424f9fbf   \n",
       "\n",
       "                       created                   completed   \n",
       "93  2023-05-14T11:22:03.695796  2023-05-14T12:16:06.681754  \\\n",
       "94  2023-05-14T11:22:02.887531  2023-05-14T12:14:51.556806   \n",
       "\n",
       "                                             estimate status  \n",
       "93  {'request_size': 18658935783.429977, 'request_...   done  \n",
       "94  {'request_size': 18658935783.429977, 'request_...   done  "
      ]
     },
     "execution_count": 11,
     "metadata": {},
     "output_type": "execute_result"
    },
    {
     "data": {
      "text/plain": [
       "(96, 6)"
      ]
     },
     "execution_count": 11,
     "metadata": {},
     "output_type": "execute_result"
    }
   ],
   "source": [
    "done.head(2)\n",
    "done.tail(2)\n",
    "done.shape"
   ]
  },
  {
   "cell_type": "code",
   "execution_count": 12,
   "id": "457e7350",
   "metadata": {},
   "outputs": [],
   "source": [
    "# drop duplicated tasks keep latest\n",
    "done = done.drop_duplicates(subset='task_name', keep='first')"
   ]
  },
  {
   "cell_type": "markdown",
   "id": "8879a795",
   "metadata": {},
   "source": [
    "# List files"
   ]
  },
  {
   "cell_type": "code",
   "execution_count": 13,
   "id": "71d77e51",
   "metadata": {},
   "outputs": [
    {
     "data": {
      "text/plain": [
       "'88044542-79b6-4bcd-9f42-87db0624beac'"
      ]
     },
     "execution_count": 13,
     "metadata": {},
     "output_type": "execute_result"
    }
   ],
   "source": [
    "task_id = done.task_id.values[0]\n",
    "task_id"
   ]
  },
  {
   "cell_type": "code",
   "execution_count": 14,
   "id": "38ef6b59",
   "metadata": {},
   "outputs": [
    {
     "data": {
      "text/html": [
       "<div>\n",
       "<style scoped>\n",
       "    .dataframe tbody tr th:only-of-type {\n",
       "        vertical-align: middle;\n",
       "    }\n",
       "\n",
       "    .dataframe tbody tr th {\n",
       "        vertical-align: top;\n",
       "    }\n",
       "\n",
       "    .dataframe thead th {\n",
       "        text-align: right;\n",
       "    }\n",
       "</style>\n",
       "<table border=\"1\" class=\"dataframe\">\n",
       "  <thead>\n",
       "    <tr style=\"text-align: right;\">\n",
       "      <th></th>\n",
       "      <th>sha256</th>\n",
       "      <th>file_id</th>\n",
       "      <th>file_name</th>\n",
       "      <th>file_size</th>\n",
       "      <th>file_type</th>\n",
       "      <th>s3_url</th>\n",
       "    </tr>\n",
       "  </thead>\n",
       "  <tbody>\n",
       "    <tr>\n",
       "      <th>2</th>\n",
       "      <td>7be1e192d3d6f1b5cd7585e3d2eb5fb83fe7f9d572b1cc...</td>\n",
       "      <td>747bb4e9-e6c0-4e8f-98d3-ba462dd9f897</td>\n",
       "      <td>VNP13A1.001_500m_aid0001.nc</td>\n",
       "      <td>2825794868</td>\n",
       "      <td>nc</td>\n",
       "      <td>s3://appeears-output/88044542-79b6-4bcd-9f42-8...</td>\n",
       "    </tr>\n",
       "    <tr>\n",
       "      <th>1</th>\n",
       "      <td>0a6b7680ac7c4f1fa8d8a836bbe3be08b9c94fae505878...</td>\n",
       "      <td>6f81b366-ccbe-4d73-8c49-fb2cdb5425a6</td>\n",
       "      <td>VNP09H1.001_500m_aid0001.nc</td>\n",
       "      <td>857585155</td>\n",
       "      <td>nc</td>\n",
       "      <td>s3://appeears-output/88044542-79b6-4bcd-9f42-8...</td>\n",
       "    </tr>\n",
       "    <tr>\n",
       "      <th>0</th>\n",
       "      <td>357211e1c82deb9d486ca04606fd073032a14b4a1114b5...</td>\n",
       "      <td>7b7e6d6c-fae4-4ebc-850d-1ed4c289bbcb</td>\n",
       "      <td>MCD15A2H.061_500m_aid0001.nc</td>\n",
       "      <td>170971383</td>\n",
       "      <td>nc</td>\n",
       "      <td>s3://appeears-output/88044542-79b6-4bcd-9f42-8...</td>\n",
       "    </tr>\n",
       "    <tr>\n",
       "      <th>18</th>\n",
       "      <td>09a01e852a2ee0d239a46f4950eee07d0fb495f07f9857...</td>\n",
       "      <td>99f58cc7-8a77-49da-a343-5ad375ff3e5c</td>\n",
       "      <td>sa-2020-01-granule-list.txt</td>\n",
       "      <td>27646</td>\n",
       "      <td>txt</td>\n",
       "      <td>s3://appeears-output/88044542-79b6-4bcd-9f42-8...</td>\n",
       "    </tr>\n",
       "    <tr>\n",
       "      <th>23</th>\n",
       "      <td>ca394fb8dfa8d78e365121cfa5b38abd8d8737e61dc81c...</td>\n",
       "      <td>42210052-b401-4594-bc3e-0051b61fdb8e</td>\n",
       "      <td>README.md</td>\n",
       "      <td>26697</td>\n",
       "      <td>txt</td>\n",
       "      <td>s3://appeears-output/88044542-79b6-4bcd-9f42-8...</td>\n",
       "    </tr>\n",
       "  </tbody>\n",
       "</table>\n",
       "</div>"
      ],
      "text/plain": [
       "                                               sha256   \n",
       "2   7be1e192d3d6f1b5cd7585e3d2eb5fb83fe7f9d572b1cc...  \\\n",
       "1   0a6b7680ac7c4f1fa8d8a836bbe3be08b9c94fae505878...   \n",
       "0   357211e1c82deb9d486ca04606fd073032a14b4a1114b5...   \n",
       "18  09a01e852a2ee0d239a46f4950eee07d0fb495f07f9857...   \n",
       "23  ca394fb8dfa8d78e365121cfa5b38abd8d8737e61dc81c...   \n",
       "\n",
       "                                 file_id                     file_name   \n",
       "2   747bb4e9-e6c0-4e8f-98d3-ba462dd9f897   VNP13A1.001_500m_aid0001.nc  \\\n",
       "1   6f81b366-ccbe-4d73-8c49-fb2cdb5425a6   VNP09H1.001_500m_aid0001.nc   \n",
       "0   7b7e6d6c-fae4-4ebc-850d-1ed4c289bbcb  MCD15A2H.061_500m_aid0001.nc   \n",
       "18  99f58cc7-8a77-49da-a343-5ad375ff3e5c   sa-2020-01-granule-list.txt   \n",
       "23  42210052-b401-4594-bc3e-0051b61fdb8e                     README.md   \n",
       "\n",
       "     file_size file_type                                             s3_url  \n",
       "2   2825794868        nc  s3://appeears-output/88044542-79b6-4bcd-9f42-8...  \n",
       "1    857585155        nc  s3://appeears-output/88044542-79b6-4bcd-9f42-8...  \n",
       "0    170971383        nc  s3://appeears-output/88044542-79b6-4bcd-9f42-8...  \n",
       "18       27646       txt  s3://appeears-output/88044542-79b6-4bcd-9f42-8...  \n",
       "23       26697       txt  s3://appeears-output/88044542-79b6-4bcd-9f42-8...  "
      ]
     },
     "execution_count": 14,
     "metadata": {},
     "output_type": "execute_result"
    },
    {
     "data": {
      "text/plain": [
       "(24, 6)"
      ]
     },
     "execution_count": 14,
     "metadata": {},
     "output_type": "execute_result"
    }
   ],
   "source": [
    "files = get_appeears_files(token, task_id)\n",
    "files.head()\n",
    "files.shape"
   ]
  },
  {
   "cell_type": "markdown",
   "id": "4664d44a",
   "metadata": {},
   "source": [
    "# Download all files"
   ]
  },
  {
   "cell_type": "code",
   "execution_count": 15,
   "id": "e9dc5942",
   "metadata": {},
   "outputs": [],
   "source": [
    "os.makedirs(\"appeears_data\", exist_ok=True)"
   ]
  },
  {
   "cell_type": "code",
   "execution_count": 16,
   "id": "2f6be60f",
   "metadata": {},
   "outputs": [
    {
     "name": "stderr",
     "output_type": "stream",
     "text": [
      "100%|██████████| 96/96 [00:13<00:00,  7.38it/s]\n"
     ]
    }
   ],
   "source": [
    "all_files = []\n",
    "for task_name, task_id in tqdm(done[['task_name', 'task_id']].values):\n",
    "    files = get_appeears_files(token, task_id)\n",
    "    for file_id, file_name in files[['file_id', 'file_name']].values[:3]:  # 3 largest files for satellite\n",
    "        all_files.append([\n",
    "            task_name, task_id, file_name, file_id\n",
    "        ])\n",
    "    \n",
    "files_to_download = pd.DataFrame(\n",
    "    all_files,\n",
    "    columns=['task_name', 'task_id', 'file_name', 'file_id']\n",
    ")"
   ]
  },
  {
   "cell_type": "code",
   "execution_count": 17,
   "id": "53a66771",
   "metadata": {},
   "outputs": [
    {
     "data": {
      "text/plain": [
       "(288, 4)"
      ]
     },
     "execution_count": 17,
     "metadata": {},
     "output_type": "execute_result"
    },
    {
     "data": {
      "text/html": [
       "<div>\n",
       "<style scoped>\n",
       "    .dataframe tbody tr th:only-of-type {\n",
       "        vertical-align: middle;\n",
       "    }\n",
       "\n",
       "    .dataframe tbody tr th {\n",
       "        vertical-align: top;\n",
       "    }\n",
       "\n",
       "    .dataframe thead th {\n",
       "        text-align: right;\n",
       "    }\n",
       "</style>\n",
       "<table border=\"1\" class=\"dataframe\">\n",
       "  <thead>\n",
       "    <tr style=\"text-align: right;\">\n",
       "      <th></th>\n",
       "      <th>task_name</th>\n",
       "      <th>task_id</th>\n",
       "      <th>file_name</th>\n",
       "      <th>file_id</th>\n",
       "    </tr>\n",
       "  </thead>\n",
       "  <tbody>\n",
       "    <tr>\n",
       "      <th>0</th>\n",
       "      <td>sa-2020-01</td>\n",
       "      <td>88044542-79b6-4bcd-9f42-87db0624beac</td>\n",
       "      <td>VNP13A1.001_500m_aid0001.nc</td>\n",
       "      <td>747bb4e9-e6c0-4e8f-98d3-ba462dd9f897</td>\n",
       "    </tr>\n",
       "    <tr>\n",
       "      <th>1</th>\n",
       "      <td>sa-2020-01</td>\n",
       "      <td>88044542-79b6-4bcd-9f42-87db0624beac</td>\n",
       "      <td>VNP09H1.001_500m_aid0001.nc</td>\n",
       "      <td>6f81b366-ccbe-4d73-8c49-fb2cdb5425a6</td>\n",
       "    </tr>\n",
       "  </tbody>\n",
       "</table>\n",
       "</div>"
      ],
      "text/plain": [
       "    task_name                               task_id   \n",
       "0  sa-2020-01  88044542-79b6-4bcd-9f42-87db0624beac  \\\n",
       "1  sa-2020-01  88044542-79b6-4bcd-9f42-87db0624beac   \n",
       "\n",
       "                     file_name                               file_id  \n",
       "0  VNP13A1.001_500m_aid0001.nc  747bb4e9-e6c0-4e8f-98d3-ba462dd9f897  \n",
       "1  VNP09H1.001_500m_aid0001.nc  6f81b366-ccbe-4d73-8c49-fb2cdb5425a6  "
      ]
     },
     "execution_count": 17,
     "metadata": {},
     "output_type": "execute_result"
    },
    {
     "data": {
      "text/html": [
       "<div>\n",
       "<style scoped>\n",
       "    .dataframe tbody tr th:only-of-type {\n",
       "        vertical-align: middle;\n",
       "    }\n",
       "\n",
       "    .dataframe tbody tr th {\n",
       "        vertical-align: top;\n",
       "    }\n",
       "\n",
       "    .dataframe thead th {\n",
       "        text-align: right;\n",
       "    }\n",
       "</style>\n",
       "<table border=\"1\" class=\"dataframe\">\n",
       "  <thead>\n",
       "    <tr style=\"text-align: right;\">\n",
       "      <th></th>\n",
       "      <th>task_name</th>\n",
       "      <th>task_id</th>\n",
       "      <th>file_name</th>\n",
       "      <th>file_id</th>\n",
       "    </tr>\n",
       "  </thead>\n",
       "  <tbody>\n",
       "    <tr>\n",
       "      <th>286</th>\n",
       "      <td>sa-2013-02</td>\n",
       "      <td>adc0789f-6159-4aab-9c88-6f90424f9fbf</td>\n",
       "      <td>VNP09H1.001_500m_aid0001.nc</td>\n",
       "      <td>8d9432f6-b51d-40b5-af09-e8a88d7c40b1</td>\n",
       "    </tr>\n",
       "    <tr>\n",
       "      <th>287</th>\n",
       "      <td>sa-2013-02</td>\n",
       "      <td>adc0789f-6159-4aab-9c88-6f90424f9fbf</td>\n",
       "      <td>MCD15A2H.061_500m_aid0001.nc</td>\n",
       "      <td>fb760d1a-9897-436d-92b4-a0a74bbfa08d</td>\n",
       "    </tr>\n",
       "  </tbody>\n",
       "</table>\n",
       "</div>"
      ],
      "text/plain": [
       "      task_name                               task_id   \n",
       "286  sa-2013-02  adc0789f-6159-4aab-9c88-6f90424f9fbf  \\\n",
       "287  sa-2013-02  adc0789f-6159-4aab-9c88-6f90424f9fbf   \n",
       "\n",
       "                        file_name                               file_id  \n",
       "286   VNP09H1.001_500m_aid0001.nc  8d9432f6-b51d-40b5-af09-e8a88d7c40b1  \n",
       "287  MCD15A2H.061_500m_aid0001.nc  fb760d1a-9897-436d-92b4-a0a74bbfa08d  "
      ]
     },
     "execution_count": 17,
     "metadata": {},
     "output_type": "execute_result"
    }
   ],
   "source": [
    "files_to_download.shape\n",
    "files_to_download.head(2)\n",
    "files_to_download.tail(2)\n"
   ]
  },
  {
   "cell_type": "code",
   "execution_count": 18,
   "id": "e0100c77",
   "metadata": {},
   "outputs": [
    {
     "name": "stderr",
     "output_type": "stream",
     "text": [
      "100%|██████████| 288/288 [2:04:48<00:00, 26.00s/it]  \n"
     ]
    }
   ],
   "source": [
    "DOWNLOAD_FLAG = True\n",
    "for task_name, task_id, file_name, file_id in tqdm(files_to_download.values):\n",
    "    dest_dir = f\"appeears_data/{task_name}/\"\n",
    "    filepath = os.path.join(dest_dir, file_name)\n",
    "    os.makedirs(os.path.dirname(filepath), exist_ok=True)\n",
    "    if DOWNLOAD_FLAG and (not os.path.exists(filepath)) and (not os.path.exists(f\"maps/{task_name}.npz\")):\n",
    "        download_appeears_file(token, task_id, file_id, filepath)"
   ]
  },
  {
   "cell_type": "markdown",
   "id": "05ab2ffc",
   "metadata": {},
   "source": [
    "# Send requests for satellite data"
   ]
  },
  {
   "cell_type": "code",
   "execution_count": null,
   "id": "dc191612",
   "metadata": {},
   "outputs": [],
   "source": [
    "requested = list_appeears_tasks(token)\n",
    "requested = requested[requested.created > \"2023-05\"]\n",
    "requested[[\"task_name\", \"task_id\", \"created\", \"completed\", \"estimate\", \"status\"]].head(2)\n",
    "requested[[\"task_name\", \"task_id\", \"created\", \"completed\", \"estimate\", \"status\"]].tail(5)\n",
    "requested.shape"
   ]
  },
  {
   "cell_type": "code",
   "execution_count": null,
   "id": "1e1d4cd6",
   "metadata": {},
   "outputs": [],
   "source": [
    "dates_df = get_dates_df('amazon_patch_v2')\n",
    "dates_df"
   ]
  },
  {
   "cell_type": "code",
   "execution_count": null,
   "id": "d698e276",
   "metadata": {},
   "outputs": [],
   "source": [
    "# dates_df = pd.read_csv('satellite_dates.csv', parse_dates=['s_d', 'l_d', 'v_d'])"
   ]
  },
  {
   "cell_type": "code",
   "execution_count": null,
   "id": "eb8cda08",
   "metadata": {
    "scrolled": false
   },
   "outputs": [],
   "source": [
    "dates_df['start_date'] = dates_df[['s_d', 'l_d', 'v_d']].min(axis=1)\n",
    "dates_df['end_date'] = dates_df[['s_d', 'l_d', 'v_d']].max(axis=1)\n",
    "dates_df.start_date = dates_df.start_date.dt.strftime(\"%m-%d-%Y\")\n",
    "dates_df.end_date = dates_df.end_date.dt.strftime(\"%m-%d-%Y\")\n",
    "dates_df"
   ]
  },
  {
   "cell_type": "code",
   "execution_count": null,
   "id": "da758051",
   "metadata": {},
   "outputs": [],
   "source": [
    "# dates_df = dates_df.tail(1)\n",
    "# requested = requested[requested.task_name == \"RM\"]"
   ]
  },
  {
   "cell_type": "code",
   "execution_count": null,
   "id": "f21bc41f",
   "metadata": {},
   "outputs": [],
   "source": [
    "SEND = False"
   ]
  },
  {
   "cell_type": "code",
   "execution_count": null,
   "id": "0978da5f",
   "metadata": {},
   "outputs": [],
   "source": [
    "for start_date, end_date, ym in dates_df[['start_date', 'end_date', 'm']].values:\n",
    "    task_name = f\"sa-{ym}\"\n",
    "    if SEND and (task_name not in requested.task_name.values):\n",
    "        task_response = request_appeears_task(\n",
    "            token,\n",
    "            start_date,\n",
    "            end_date,\n",
    "            south_america_coordinates,\n",
    "            task_name\n",
    "        )\n",
    "        print(ym, task_response)"
   ]
  },
  {
   "cell_type": "code",
   "execution_count": null,
   "id": "2d509c24",
   "metadata": {},
   "outputs": [],
   "source": [
    "tasks = list_appeears_tasks(token)\n",
    "tasks[[\"task_name\", \"task_id\", \"created\", \"completed\", \"estimate\", \"status\"]].head(2)"
   ]
  },
  {
   "cell_type": "markdown",
   "id": "0dfad858",
   "metadata": {},
   "source": [
    "# FIRE CCI\n",
    "\n",
    "\n",
    "wget -e robots=off --mirror --no-parent -r https://dap.ceda.ac.uk/neodc/esacci/fire/data/burned_area/MODIS/pixel/v5.1/compressed/2020/\n"
   ]
  },
  {
   "cell_type": "code",
   "execution_count": 64,
   "id": "bd6c05b0",
   "metadata": {},
   "outputs": [
    {
     "name": "stdout",
     "output_type": "stream",
     "text": [
      "dap.ceda.ac.uk\r\n"
     ]
    }
   ],
   "source": [
    "!ls firecci"
   ]
  },
  {
   "cell_type": "code",
   "execution_count": 58,
   "id": "0b9683e3",
   "metadata": {},
   "outputs": [],
   "source": [
    "gzs=glob.glob(\"./firecci/**/*.gz\", recursive=True)"
   ]
  },
  {
   "cell_type": "code",
   "execution_count": 59,
   "id": "58516815",
   "metadata": {},
   "outputs": [],
   "source": [
    "# Keep South America\n",
    "for f in gzs:\n",
    "    if \"AREA_2\" not in f:\n",
    "        os.remove(f)\n",
    "    else:\n",
    "        pass"
   ]
  },
  {
   "cell_type": "code",
   "execution_count": 60,
   "id": "6df201e2",
   "metadata": {},
   "outputs": [
    {
     "data": {
      "text/plain": [
       "99"
      ]
     },
     "execution_count": 60,
     "metadata": {},
     "output_type": "execute_result"
    }
   ],
   "source": [
    "len(gzs)"
   ]
  },
  {
   "cell_type": "code",
   "execution_count": 63,
   "id": "dd58dec1",
   "metadata": {
    "scrolled": false
   },
   "outputs": [
    {
     "data": {
      "text/plain": [
       "['./firecci/dap.ceda.ac.uk/neodc/esacci/fire/data/burned_area/MODIS/pixel/v5.1/compressed/2015/20150801-ESACCI-L3S_FIRE-BA-MODIS-AREA_2-fv5.1.tar.gz',\n",
       " './firecci/dap.ceda.ac.uk/neodc/esacci/fire/data/burned_area/MODIS/pixel/v5.1/compressed/2015/20151001-ESACCI-L3S_FIRE-BA-MODIS-AREA_2-fv5.1.tar.gz',\n",
       " './firecci/dap.ceda.ac.uk/neodc/esacci/fire/data/burned_area/MODIS/pixel/v5.1/compressed/2015/20150401-ESACCI-L3S_FIRE-BA-MODIS-AREA_2-fv5.1.tar.gz',\n",
       " './firecci/dap.ceda.ac.uk/neodc/esacci/fire/data/burned_area/MODIS/pixel/v5.1/compressed/2015/20150301-ESACCI-L3S_FIRE-BA-MODIS-AREA_2-fv5.1.tar.gz',\n",
       " './firecci/dap.ceda.ac.uk/neodc/esacci/fire/data/burned_area/MODIS/pixel/v5.1/compressed/2015/20151201-ESACCI-L3S_FIRE-BA-MODIS-AREA_2-fv5.1.tar.gz',\n",
       " './firecci/dap.ceda.ac.uk/neodc/esacci/fire/data/burned_area/MODIS/pixel/v5.1/compressed/2015/20150701-ESACCI-L3S_FIRE-BA-MODIS-AREA_2-fv5.1.tar.gz',\n",
       " './firecci/dap.ceda.ac.uk/neodc/esacci/fire/data/burned_area/MODIS/pixel/v5.1/compressed/2015/20150901-ESACCI-L3S_FIRE-BA-MODIS-AREA_2-fv5.1.tar.gz',\n",
       " './firecci/dap.ceda.ac.uk/neodc/esacci/fire/data/burned_area/MODIS/pixel/v5.1/compressed/2015/20150201-ESACCI-L3S_FIRE-BA-MODIS-AREA_2-fv5.1.tar.gz',\n",
       " './firecci/dap.ceda.ac.uk/neodc/esacci/fire/data/burned_area/MODIS/pixel/v5.1/compressed/2015/20150101-ESACCI-L3S_FIRE-BA-MODIS-AREA_2-fv5.1.tar.gz',\n",
       " './firecci/dap.ceda.ac.uk/neodc/esacci/fire/data/burned_area/MODIS/pixel/v5.1/compressed/2015/20150501-ESACCI-L3S_FIRE-BA-MODIS-AREA_2-fv5.1.tar.gz',\n",
       " './firecci/dap.ceda.ac.uk/neodc/esacci/fire/data/burned_area/MODIS/pixel/v5.1/compressed/2015/20151101-ESACCI-L3S_FIRE-BA-MODIS-AREA_2-fv5.1.tar.gz',\n",
       " './firecci/dap.ceda.ac.uk/neodc/esacci/fire/data/burned_area/MODIS/pixel/v5.1/compressed/2015/20150601-ESACCI-L3S_FIRE-BA-MODIS-AREA_2-fv5.1.tar.gz',\n",
       " './firecci/dap.ceda.ac.uk/neodc/esacci/fire/data/burned_area/MODIS/pixel/v5.1/compressed/2017/20170101-ESACCI-L3S_FIRE-BA-MODIS-AREA_2-fv5.1.tar.gz',\n",
       " './firecci/dap.ceda.ac.uk/neodc/esacci/fire/data/burned_area/MODIS/pixel/v5.1/compressed/2017/20170501-ESACCI-L3S_FIRE-BA-MODIS-AREA_2-fv5.1.tar.gz',\n",
       " './firecci/dap.ceda.ac.uk/neodc/esacci/fire/data/burned_area/MODIS/pixel/v5.1/compressed/2017/20171101-ESACCI-L3S_FIRE-BA-MODIS-AREA_2-fv5.1.tar.gz',\n",
       " './firecci/dap.ceda.ac.uk/neodc/esacci/fire/data/burned_area/MODIS/pixel/v5.1/compressed/2017/20171001-ESACCI-L3S_FIRE-BA-MODIS-AREA_2-fv5.1.tar.gz',\n",
       " './firecci/dap.ceda.ac.uk/neodc/esacci/fire/data/burned_area/MODIS/pixel/v5.1/compressed/2017/20170901-ESACCI-L3S_FIRE-BA-MODIS-AREA_2-fv5.1.tar.gz',\n",
       " './firecci/dap.ceda.ac.uk/neodc/esacci/fire/data/burned_area/MODIS/pixel/v5.1/compressed/2017/20170601-ESACCI-L3S_FIRE-BA-MODIS-AREA_2-fv5.1.tar.gz',\n",
       " './firecci/dap.ceda.ac.uk/neodc/esacci/fire/data/burned_area/MODIS/pixel/v5.1/compressed/2017/20170301-ESACCI-L3S_FIRE-BA-MODIS-AREA_2-fv5.1.tar.gz',\n",
       " './firecci/dap.ceda.ac.uk/neodc/esacci/fire/data/burned_area/MODIS/pixel/v5.1/compressed/2017/20170201-ESACCI-L3S_FIRE-BA-MODIS-AREA_2-fv5.1.tar.gz',\n",
       " './firecci/dap.ceda.ac.uk/neodc/esacci/fire/data/burned_area/MODIS/pixel/v5.1/compressed/2017/20170401-ESACCI-L3S_FIRE-BA-MODIS-AREA_2-fv5.1.tar.gz',\n",
       " './firecci/dap.ceda.ac.uk/neodc/esacci/fire/data/burned_area/MODIS/pixel/v5.1/compressed/2017/20170701-ESACCI-L3S_FIRE-BA-MODIS-AREA_2-fv5.1.tar.gz',\n",
       " './firecci/dap.ceda.ac.uk/neodc/esacci/fire/data/burned_area/MODIS/pixel/v5.1/compressed/2017/20171201-ESACCI-L3S_FIRE-BA-MODIS-AREA_2-fv5.1.tar.gz',\n",
       " './firecci/dap.ceda.ac.uk/neodc/esacci/fire/data/burned_area/MODIS/pixel/v5.1/compressed/2017/20170801-ESACCI-L3S_FIRE-BA-MODIS-AREA_2-fv5.1.tar.gz',\n",
       " './firecci/dap.ceda.ac.uk/neodc/esacci/fire/data/burned_area/MODIS/pixel/v5.1/compressed/2019/20190101-ESACCI-L3S_FIRE-BA-MODIS-AREA_2-fv5.1.tar.gz',\n",
       " './firecci/dap.ceda.ac.uk/neodc/esacci/fire/data/burned_area/MODIS/pixel/v5.1/compressed/2019/20190901-ESACCI-L3S_FIRE-BA-MODIS-AREA_2-fv5.1.tar.gz',\n",
       " './firecci/dap.ceda.ac.uk/neodc/esacci/fire/data/burned_area/MODIS/pixel/v5.1/compressed/2019/20190501-ESACCI-L3S_FIRE-BA-MODIS-AREA_2-fv5.1.tar.gz',\n",
       " './firecci/dap.ceda.ac.uk/neodc/esacci/fire/data/burned_area/MODIS/pixel/v5.1/compressed/2019/20190201-ESACCI-L3S_FIRE-BA-MODIS-AREA_2-fv5.1.tar.gz',\n",
       " './firecci/dap.ceda.ac.uk/neodc/esacci/fire/data/burned_area/MODIS/pixel/v5.1/compressed/2019/20190301-ESACCI-L3S_FIRE-BA-MODIS-AREA_2-fv5.1.tar.gz',\n",
       " './firecci/dap.ceda.ac.uk/neodc/esacci/fire/data/burned_area/MODIS/pixel/v5.1/compressed/2019/20190701-ESACCI-L3S_FIRE-BA-MODIS-AREA_2-fv5.1.tar.gz',\n",
       " './firecci/dap.ceda.ac.uk/neodc/esacci/fire/data/burned_area/MODIS/pixel/v5.1/compressed/2019/20190401-ESACCI-L3S_FIRE-BA-MODIS-AREA_2-fv5.1.tar.gz',\n",
       " './firecci/dap.ceda.ac.uk/neodc/esacci/fire/data/burned_area/MODIS/pixel/v5.1/compressed/2019/20190801-ESACCI-L3S_FIRE-BA-MODIS-AREA_2-fv5.1.tar.gz',\n",
       " './firecci/dap.ceda.ac.uk/neodc/esacci/fire/data/burned_area/MODIS/pixel/v5.1/compressed/2019/20190601-ESACCI-L3S_FIRE-BA-MODIS-AREA_2-fv5.1.tar.gz',\n",
       " './firecci/dap.ceda.ac.uk/neodc/esacci/fire/data/burned_area/MODIS/pixel/v5.1/compressed/2019/old-redacted/20191001-ESACCI-L3S_FIRE-BA-MODIS-AREA_2-fv5.1.tar.gz',\n",
       " './firecci/dap.ceda.ac.uk/neodc/esacci/fire/data/burned_area/MODIS/pixel/v5.1/compressed/2019/old-redacted/20191101-ESACCI-L3S_FIRE-BA-MODIS-AREA_2-fv5.1.tar.gz',\n",
       " './firecci/dap.ceda.ac.uk/neodc/esacci/fire/data/burned_area/MODIS/pixel/v5.1/compressed/2019/old-redacted/20191201-ESACCI-L3S_FIRE-BA-MODIS-AREA_2-fv5.1.tar.gz',\n",
       " './firecci/dap.ceda.ac.uk/neodc/esacci/fire/data/burned_area/MODIS/pixel/v5.1/compressed/2019/new-corrected/20191001-ESACCI-L3S_FIRE-BA-MODIS-AREA_2-fv5.1.tar.gz',\n",
       " './firecci/dap.ceda.ac.uk/neodc/esacci/fire/data/burned_area/MODIS/pixel/v5.1/compressed/2019/new-corrected/20191101-ESACCI-L3S_FIRE-BA-MODIS-AREA_2-fv5.1.tar.gz',\n",
       " './firecci/dap.ceda.ac.uk/neodc/esacci/fire/data/burned_area/MODIS/pixel/v5.1/compressed/2019/new-corrected/20191201-ESACCI-L3S_FIRE-BA-MODIS-AREA_2-fv5.1.tar.gz',\n",
       " './firecci/dap.ceda.ac.uk/neodc/esacci/fire/data/burned_area/MODIS/pixel/v5.1/compressed/2014/20140401-ESACCI-L3S_FIRE-BA-MODIS-AREA_2-fv5.1.tar.gz',\n",
       " './firecci/dap.ceda.ac.uk/neodc/esacci/fire/data/burned_area/MODIS/pixel/v5.1/compressed/2014/20140801-ESACCI-L3S_FIRE-BA-MODIS-AREA_2-fv5.1.tar.gz',\n",
       " './firecci/dap.ceda.ac.uk/neodc/esacci/fire/data/burned_area/MODIS/pixel/v5.1/compressed/2014/20140201-ESACCI-L3S_FIRE-BA-MODIS-AREA_2-fv5.1.tar.gz',\n",
       " './firecci/dap.ceda.ac.uk/neodc/esacci/fire/data/burned_area/MODIS/pixel/v5.1/compressed/2014/20140701-ESACCI-L3S_FIRE-BA-MODIS-AREA_2-fv5.1.tar.gz',\n",
       " './firecci/dap.ceda.ac.uk/neodc/esacci/fire/data/burned_area/MODIS/pixel/v5.1/compressed/2014/20140601-ESACCI-L3S_FIRE-BA-MODIS-AREA_2-fv5.1.tar.gz',\n",
       " './firecci/dap.ceda.ac.uk/neodc/esacci/fire/data/burned_area/MODIS/pixel/v5.1/compressed/2014/20141201-ESACCI-L3S_FIRE-BA-MODIS-AREA_2-fv5.1.tar.gz',\n",
       " './firecci/dap.ceda.ac.uk/neodc/esacci/fire/data/burned_area/MODIS/pixel/v5.1/compressed/2014/20140501-ESACCI-L3S_FIRE-BA-MODIS-AREA_2-fv5.1.tar.gz',\n",
       " './firecci/dap.ceda.ac.uk/neodc/esacci/fire/data/burned_area/MODIS/pixel/v5.1/compressed/2014/20141001-ESACCI-L3S_FIRE-BA-MODIS-AREA_2-fv5.1.tar.gz',\n",
       " './firecci/dap.ceda.ac.uk/neodc/esacci/fire/data/burned_area/MODIS/pixel/v5.1/compressed/2014/20141101-ESACCI-L3S_FIRE-BA-MODIS-AREA_2-fv5.1.tar.gz',\n",
       " './firecci/dap.ceda.ac.uk/neodc/esacci/fire/data/burned_area/MODIS/pixel/v5.1/compressed/2014/20140901-ESACCI-L3S_FIRE-BA-MODIS-AREA_2-fv5.1.tar.gz',\n",
       " './firecci/dap.ceda.ac.uk/neodc/esacci/fire/data/burned_area/MODIS/pixel/v5.1/compressed/2014/20140301-ESACCI-L3S_FIRE-BA-MODIS-AREA_2-fv5.1.tar.gz',\n",
       " './firecci/dap.ceda.ac.uk/neodc/esacci/fire/data/burned_area/MODIS/pixel/v5.1/compressed/2014/20140101-ESACCI-L3S_FIRE-BA-MODIS-AREA_2-fv5.1.tar.gz',\n",
       " './firecci/dap.ceda.ac.uk/neodc/esacci/fire/data/burned_area/MODIS/pixel/v5.1/compressed/2016/20160901-ESACCI-L3S_FIRE-BA-MODIS-AREA_2-fv5.1.tar.gz',\n",
       " './firecci/dap.ceda.ac.uk/neodc/esacci/fire/data/burned_area/MODIS/pixel/v5.1/compressed/2016/20160701-ESACCI-L3S_FIRE-BA-MODIS-AREA_2-fv5.1.tar.gz',\n",
       " './firecci/dap.ceda.ac.uk/neodc/esacci/fire/data/burned_area/MODIS/pixel/v5.1/compressed/2016/20161201-ESACCI-L3S_FIRE-BA-MODIS-AREA_2-fv5.1.tar.gz',\n",
       " './firecci/dap.ceda.ac.uk/neodc/esacci/fire/data/burned_area/MODIS/pixel/v5.1/compressed/2016/20160601-ESACCI-L3S_FIRE-BA-MODIS-AREA_2-fv5.1.tar.gz',\n",
       " './firecci/dap.ceda.ac.uk/neodc/esacci/fire/data/burned_area/MODIS/pixel/v5.1/compressed/2016/20160301-ESACCI-L3S_FIRE-BA-MODIS-AREA_2-fv5.1.tar.gz',\n",
       " './firecci/dap.ceda.ac.uk/neodc/esacci/fire/data/burned_area/MODIS/pixel/v5.1/compressed/2016/20160401-ESACCI-L3S_FIRE-BA-MODIS-AREA_2-fv5.1.tar.gz',\n",
       " './firecci/dap.ceda.ac.uk/neodc/esacci/fire/data/burned_area/MODIS/pixel/v5.1/compressed/2016/20160501-ESACCI-L3S_FIRE-BA-MODIS-AREA_2-fv5.1.tar.gz',\n",
       " './firecci/dap.ceda.ac.uk/neodc/esacci/fire/data/burned_area/MODIS/pixel/v5.1/compressed/2016/20161101-ESACCI-L3S_FIRE-BA-MODIS-AREA_2-fv5.1.tar.gz',\n",
       " './firecci/dap.ceda.ac.uk/neodc/esacci/fire/data/burned_area/MODIS/pixel/v5.1/compressed/2016/20161001-ESACCI-L3S_FIRE-BA-MODIS-AREA_2-fv5.1.tar.gz',\n",
       " './firecci/dap.ceda.ac.uk/neodc/esacci/fire/data/burned_area/MODIS/pixel/v5.1/compressed/2016/20160201-ESACCI-L3S_FIRE-BA-MODIS-AREA_2-fv5.1.tar.gz',\n",
       " './firecci/dap.ceda.ac.uk/neodc/esacci/fire/data/burned_area/MODIS/pixel/v5.1/compressed/2016/20160801-ESACCI-L3S_FIRE-BA-MODIS-AREA_2-fv5.1.tar.gz',\n",
       " './firecci/dap.ceda.ac.uk/neodc/esacci/fire/data/burned_area/MODIS/pixel/v5.1/compressed/2016/20160101-ESACCI-L3S_FIRE-BA-MODIS-AREA_2-fv5.1.tar.gz',\n",
       " './firecci/dap.ceda.ac.uk/neodc/esacci/fire/data/burned_area/MODIS/pixel/v5.1/compressed/2013/20130501-ESACCI-L3S_FIRE-BA-MODIS-AREA_2-fv5.1.tar.gz',\n",
       " './firecci/dap.ceda.ac.uk/neodc/esacci/fire/data/burned_area/MODIS/pixel/v5.1/compressed/2013/20130701-ESACCI-L3S_FIRE-BA-MODIS-AREA_2-fv5.1.tar.gz',\n",
       " './firecci/dap.ceda.ac.uk/neodc/esacci/fire/data/burned_area/MODIS/pixel/v5.1/compressed/2013/20131101-ESACCI-L3S_FIRE-BA-MODIS-AREA_2-fv5.1.tar.gz',\n",
       " './firecci/dap.ceda.ac.uk/neodc/esacci/fire/data/burned_area/MODIS/pixel/v5.1/compressed/2013/20130901-ESACCI-L3S_FIRE-BA-MODIS-AREA_2-fv5.1.tar.gz',\n",
       " './firecci/dap.ceda.ac.uk/neodc/esacci/fire/data/burned_area/MODIS/pixel/v5.1/compressed/2013/20131001-ESACCI-L3S_FIRE-BA-MODIS-AREA_2-fv5.1.tar.gz',\n",
       " './firecci/dap.ceda.ac.uk/neodc/esacci/fire/data/burned_area/MODIS/pixel/v5.1/compressed/2013/20130101-ESACCI-L3S_FIRE-BA-MODIS-AREA_2-fv5.1.tar.gz',\n",
       " './firecci/dap.ceda.ac.uk/neodc/esacci/fire/data/burned_area/MODIS/pixel/v5.1/compressed/2013/20130301-ESACCI-L3S_FIRE-BA-MODIS-AREA_2-fv5.1.tar.gz',\n",
       " './firecci/dap.ceda.ac.uk/neodc/esacci/fire/data/burned_area/MODIS/pixel/v5.1/compressed/2013/20130601-ESACCI-L3S_FIRE-BA-MODIS-AREA_2-fv5.1.tar.gz',\n",
       " './firecci/dap.ceda.ac.uk/neodc/esacci/fire/data/burned_area/MODIS/pixel/v5.1/compressed/2013/20130801-ESACCI-L3S_FIRE-BA-MODIS-AREA_2-fv5.1.tar.gz',\n",
       " './firecci/dap.ceda.ac.uk/neodc/esacci/fire/data/burned_area/MODIS/pixel/v5.1/compressed/2013/20130201-ESACCI-L3S_FIRE-BA-MODIS-AREA_2-fv5.1.tar.gz',\n",
       " './firecci/dap.ceda.ac.uk/neodc/esacci/fire/data/burned_area/MODIS/pixel/v5.1/compressed/2013/20131201-ESACCI-L3S_FIRE-BA-MODIS-AREA_2-fv5.1.tar.gz',\n",
       " './firecci/dap.ceda.ac.uk/neodc/esacci/fire/data/burned_area/MODIS/pixel/v5.1/compressed/2013/20130401-ESACCI-L3S_FIRE-BA-MODIS-AREA_2-fv5.1.tar.gz',\n",
       " './firecci/dap.ceda.ac.uk/neodc/esacci/fire/data/burned_area/MODIS/pixel/v5.1/compressed/2020/20201001-ESACCI-L3S_FIRE-BA-MODIS-AREA_2-fv5.1.tar.gz',\n",
       " './firecci/dap.ceda.ac.uk/neodc/esacci/fire/data/burned_area/MODIS/pixel/v5.1/compressed/2020/20200901-ESACCI-L3S_FIRE-BA-MODIS-AREA_2-fv5.1.tar.gz',\n",
       " './firecci/dap.ceda.ac.uk/neodc/esacci/fire/data/burned_area/MODIS/pixel/v5.1/compressed/2020/20200801-ESACCI-L3S_FIRE-BA-MODIS-AREA_2-fv5.1.tar.gz',\n",
       " './firecci/dap.ceda.ac.uk/neodc/esacci/fire/data/burned_area/MODIS/pixel/v5.1/compressed/2020/20200201-ESACCI-L3S_FIRE-BA-MODIS-AREA_2-fv5.1.tar.gz',\n",
       " './firecci/dap.ceda.ac.uk/neodc/esacci/fire/data/burned_area/MODIS/pixel/v5.1/compressed/2020/20201201-ESACCI-L3S_FIRE-BA-MODIS-AREA_2-fv5.1.tar.gz',\n",
       " './firecci/dap.ceda.ac.uk/neodc/esacci/fire/data/burned_area/MODIS/pixel/v5.1/compressed/2020/20200401-ESACCI-L3S_FIRE-BA-MODIS-AREA_2-fv5.1.tar.gz',\n",
       " './firecci/dap.ceda.ac.uk/neodc/esacci/fire/data/burned_area/MODIS/pixel/v5.1/compressed/2020/20201101-ESACCI-L3S_FIRE-BA-MODIS-AREA_2-fv5.1.tar.gz',\n",
       " './firecci/dap.ceda.ac.uk/neodc/esacci/fire/data/burned_area/MODIS/pixel/v5.1/compressed/2020/20200301-ESACCI-L3S_FIRE-BA-MODIS-AREA_2-fv5.1.tar.gz',\n",
       " './firecci/dap.ceda.ac.uk/neodc/esacci/fire/data/burned_area/MODIS/pixel/v5.1/compressed/2020/20200101-ESACCI-L3S_FIRE-BA-MODIS-AREA_2-fv5.1.tar.gz',\n",
       " './firecci/dap.ceda.ac.uk/neodc/esacci/fire/data/burned_area/MODIS/pixel/v5.1/compressed/2020/20200701-ESACCI-L3S_FIRE-BA-MODIS-AREA_2-fv5.1.tar.gz',\n",
       " './firecci/dap.ceda.ac.uk/neodc/esacci/fire/data/burned_area/MODIS/pixel/v5.1/compressed/2020/20200501-ESACCI-L3S_FIRE-BA-MODIS-AREA_2-fv5.1.tar.gz',\n",
       " './firecci/dap.ceda.ac.uk/neodc/esacci/fire/data/burned_area/MODIS/pixel/v5.1/compressed/2020/20200601-ESACCI-L3S_FIRE-BA-MODIS-AREA_2-fv5.1.tar.gz',\n",
       " './firecci/dap.ceda.ac.uk/neodc/esacci/fire/data/burned_area/MODIS/pixel/v5.1/compressed/2018/20180501-ESACCI-L3S_FIRE-BA-MODIS-AREA_2-fv5.1.tar.gz',\n",
       " './firecci/dap.ceda.ac.uk/neodc/esacci/fire/data/burned_area/MODIS/pixel/v5.1/compressed/2018/20180601-ESACCI-L3S_FIRE-BA-MODIS-AREA_2-fv5.1.tar.gz',\n",
       " './firecci/dap.ceda.ac.uk/neodc/esacci/fire/data/burned_area/MODIS/pixel/v5.1/compressed/2018/20180701-ESACCI-L3S_FIRE-BA-MODIS-AREA_2-fv5.1.tar.gz',\n",
       " './firecci/dap.ceda.ac.uk/neodc/esacci/fire/data/burned_area/MODIS/pixel/v5.1/compressed/2018/20181001-ESACCI-L3S_FIRE-BA-MODIS-AREA_2-fv5.1.tar.gz',\n",
       " './firecci/dap.ceda.ac.uk/neodc/esacci/fire/data/burned_area/MODIS/pixel/v5.1/compressed/2018/20180801-ESACCI-L3S_FIRE-BA-MODIS-AREA_2-fv5.1.tar.gz',\n",
       " './firecci/dap.ceda.ac.uk/neodc/esacci/fire/data/burned_area/MODIS/pixel/v5.1/compressed/2018/20180201-ESACCI-L3S_FIRE-BA-MODIS-AREA_2-fv5.1.tar.gz',\n",
       " './firecci/dap.ceda.ac.uk/neodc/esacci/fire/data/burned_area/MODIS/pixel/v5.1/compressed/2018/20180401-ESACCI-L3S_FIRE-BA-MODIS-AREA_2-fv5.1.tar.gz',\n",
       " './firecci/dap.ceda.ac.uk/neodc/esacci/fire/data/burned_area/MODIS/pixel/v5.1/compressed/2018/20181101-ESACCI-L3S_FIRE-BA-MODIS-AREA_2-fv5.1.tar.gz',\n",
       " './firecci/dap.ceda.ac.uk/neodc/esacci/fire/data/burned_area/MODIS/pixel/v5.1/compressed/2018/20180901-ESACCI-L3S_FIRE-BA-MODIS-AREA_2-fv5.1.tar.gz',\n",
       " './firecci/dap.ceda.ac.uk/neodc/esacci/fire/data/burned_area/MODIS/pixel/v5.1/compressed/2018/20180101-ESACCI-L3S_FIRE-BA-MODIS-AREA_2-fv5.1.tar.gz',\n",
       " './firecci/dap.ceda.ac.uk/neodc/esacci/fire/data/burned_area/MODIS/pixel/v5.1/compressed/2018/20181201-ESACCI-L3S_FIRE-BA-MODIS-AREA_2-fv5.1.tar.gz',\n",
       " './firecci/dap.ceda.ac.uk/neodc/esacci/fire/data/burned_area/MODIS/pixel/v5.1/compressed/2018/20180301-ESACCI-L3S_FIRE-BA-MODIS-AREA_2-fv5.1.tar.gz']"
      ]
     },
     "execution_count": 63,
     "metadata": {},
     "output_type": "execute_result"
    }
   ],
   "source": [
    "gzs"
   ]
  },
  {
   "cell_type": "code",
   "execution_count": 66,
   "id": "3a6a7596",
   "metadata": {},
   "outputs": [
    {
     "name": "stderr",
     "output_type": "stream",
     "text": [
      "100%|██████████| 99/99 [00:18<00:00,  5.31it/s]\n"
     ]
    }
   ],
   "source": [
    "for f in tqdm(gzs):\n",
    "    tar = tarfile.open(f, \"r:gz\")\n",
    "    tar.extractall()\n",
    "    tar.close()"
   ]
  },
  {
   "cell_type": "code",
   "execution_count": 62,
   "id": "381a8c17",
   "metadata": {},
   "outputs": [
    {
     "name": "stdout",
     "output_type": "stream",
     "text": [
      "dap.ceda.ac.uk\r\n"
     ]
    }
   ],
   "source": [
    "!ls firecci"
   ]
  },
  {
   "cell_type": "code",
   "execution_count": 26,
   "id": "6b89bf1f",
   "metadata": {},
   "outputs": [
    {
     "name": "stdout",
     "output_type": "stream",
     "text": [
      "rm: cannot remove 'firecci/20200101-ESACCI-L3S_FIRE-BA-MODIS-AREA_2-fv5.1.tar.gz': No such file or directory\r\n"
     ]
    }
   ],
   "source": [
    "rm firecci/20200101-ESACCI-L3S_FIRE-BA-MODIS-AREA_2-fv5.1.tar.gz"
   ]
  },
  {
   "cell_type": "code",
   "execution_count": null,
   "id": "e0e0e67a",
   "metadata": {},
   "outputs": [],
   "source": []
  }
 ],
 "metadata": {
  "kernelspec": {
   "display_name": "Python 3 (ipykernel)",
   "language": "python",
   "name": "python3"
  },
  "language_info": {
   "codemirror_mode": {
    "name": "ipython",
    "version": 3
   },
   "file_extension": ".py",
   "mimetype": "text/x-python",
   "name": "python",
   "nbconvert_exporter": "python",
   "pygments_lexer": "ipython3",
   "version": "3.8.0"
  }
 },
 "nbformat": 4,
 "nbformat_minor": 5
}
