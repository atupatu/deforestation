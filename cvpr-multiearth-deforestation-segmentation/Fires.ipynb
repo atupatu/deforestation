{
 "cells": [
  {
   "cell_type": "code",
   "execution_count": null,
   "id": "f1668b44",
   "metadata": {},
   "outputs": [],
   "source": [
    "%matplotlib inline\n",
    "import pandas as pd\n",
    "import numpy as np\n",
    "from IPython.core.interactiveshell import InteractiveShell\n",
    "import random\n",
    "InteractiveShell.ast_node_interactivity = \"all\"\n",
    "import os\n",
    "from datetime import datetime, timedelta\n",
    "import matplotlib.pyplot as plt\n",
    "import plotly.express as px\n",
    "import plotly.figure_factory as ff\n",
    "import glob\n",
    "from tqdm import tqdm\n",
    "from pandas.tseries.offsets import DateOffset\n",
    "from bisect import bisect\n",
    "import gc\n",
    "from datetime import datetime\n",
    "import cv2"
   ]
  },
  {
   "cell_type": "code",
   "execution_count": null,
   "id": "a0c8e7e3",
   "metadata": {},
   "outputs": [],
   "source": [
    "from netCDF4 import Dataset\n",
    "from netCDF4 import num2date"
   ]
  },
  {
   "cell_type": "code",
   "execution_count": null,
   "id": "a74c3b3c",
   "metadata": {},
   "outputs": [],
   "source": [
    "import sys\n",
    "sys.path.append(\"./src\") "
   ]
  },
  {
   "cell_type": "code",
   "execution_count": null,
   "id": "c7ac747b",
   "metadata": {},
   "outputs": [],
   "source": [
    "from src.firms_tools import (\n",
    "    process_firms_chunk,\n",
    "    aggregate_month,\n",
    "    add_lat_lon_idx_to_fires,\n",
    "    get_tiles_df,\n",
    "    get_lats_lons,\n",
    ")\n",
    "from src.config import IMAGE_SIZE, SOUTH_AMERICA, south_america_coordinates, FIRECCI_SHAPE"
   ]
  },
  {
   "cell_type": "markdown",
   "id": "5e4cdee0",
   "metadata": {},
   "source": [
    "# FIRMS"
   ]
  },
  {
   "cell_type": "code",
   "execution_count": null,
   "id": "9f56acf5",
   "metadata": {},
   "outputs": [],
   "source": [
    "t0 = datetime.now()\n",
    "FIRMS_DIR = '/home/gabor/h2o/corner-beluga/projects/fire/firms_data'\n",
    "firms_files = glob.glob(f'{FIRMS_DIR}/**/*.csv', recursive=True)\n",
    "len(firms_files)"
   ]
  },
  {
   "cell_type": "code",
   "execution_count": null,
   "id": "69e948ca",
   "metadata": {},
   "outputs": [],
   "source": [
    "if not os.path.exists('firms_filestats.csv'):\n",
    "    rows = []\n",
    "    for f in tqdm(firms_files):\n",
    "        cols_to_read = [\n",
    "            \"latitude\",\n",
    "            \"longitude\",\n",
    "            \"acq_date\",\n",
    "            \"satellite\",\n",
    "            \"instrument\",\n",
    "            \"version\",\n",
    "            \"confidence\",\n",
    "        ]\n",
    "        df = pd.read_csv(f, usecols=cols_to_read, parse_dates=['acq_date'], low_memory=False)\n",
    "        csv_name = f.split('/')[-1]\n",
    "        row = [\n",
    "            f, csv_name, df.shape[0], df.shape[1], df.acq_date.min(), df.acq_date.max(),\n",
    "            df.satellite.max(), df.instrument.max(), df.version.max(),\n",
    "            df.latitude.nunique(), df.longitude.nunique(),\n",
    "            df.confidence.nunique(), df.satellite.nunique(), df.acq_date.nunique()\n",
    "        ]\n",
    "        rows.append(row)\n",
    "\n",
    "    cols = [\n",
    "        'path', 'csv', 'rows', 'cols', 'start', 'end',\n",
    "        'satellite', 'instrument', 'version',\n",
    "        'lats', 'lons', 'confs', 'sats', 'days'\n",
    "    ]\n",
    "    filestats = pd.DataFrame(rows, columns=cols)\n",
    "    filestats = filestats.sort_values(by=['start', 'instrument'])\n",
    "    filestats\n",
    "    filestats.to_csv('firms_filestats.csv', index=False)"
   ]
  },
  {
   "cell_type": "code",
   "execution_count": null,
   "id": "1adcff0a",
   "metadata": {
    "scrolled": false
   },
   "outputs": [],
   "source": [
    "filestats = pd.read_csv('firms_filestats.csv')\n",
    "filestats\n",
    "filestats['year'] = pd.to_datetime(filestats.start).dt.year\n",
    "px.bar(\n",
    "    filestats, x='year', y='rows', hover_name='csv', color='instrument',\n",
    "    title='FIRMS records'\n",
    ")"
   ]
  },
  {
   "cell_type": "markdown",
   "id": "82980cdc",
   "metadata": {},
   "source": [
    "# Process each chunk\n",
    "\n",
    "We removed fire readings with low or less than 50 confidence. For simplicity the coordinates are rounded to three decimal degrees. That is roughly 110 m at the Equator. For better spatial resolution the original VIIRS records could be used."
   ]
  },
  {
   "cell_type": "code",
   "execution_count": null,
   "id": "a240ca2e",
   "metadata": {},
   "outputs": [],
   "source": [
    "south_america_coordinates"
   ]
  },
  {
   "cell_type": "code",
   "execution_count": null,
   "id": "0e6a1158",
   "metadata": {},
   "outputs": [],
   "source": [
    "lat_min = min([lat for lon, lat in south_america_coordinates[0]])\n",
    "lat_max = max([lat for lon, lat in south_america_coordinates[0]])\n",
    "lon_min = min([lon for lon, lat in south_america_coordinates[0]])\n",
    "lon_max = max([lon for lon, lat in south_america_coordinates[0]])\n",
    "lat_min, lat_max\n",
    "lon_min, lon_max"
   ]
  },
  {
   "cell_type": "code",
   "execution_count": null,
   "id": "45de819f",
   "metadata": {
    "scrolled": false
   },
   "outputs": [],
   "source": [
    "if not os.path.exists('sa_fires.csv'):\n",
    "    chunks = []\n",
    "    for f in tqdm(firms_files):\n",
    "        daily_fires = process_firms_chunk(f)\n",
    "        # filter years\n",
    "        df = daily_fires[daily_fires.acq_date.dt.year >= 2013].copy()\n",
    "        df = df[df.acq_date.dt.year < 2021]\n",
    "        \n",
    "        # filter region\n",
    "        df = df[df.latitude >= lat_min]\n",
    "        df = df[df.latitude <= lat_max]\n",
    "        \n",
    "        df = df[df.longitude >= lon_min]\n",
    "        df = df[df.longitude <= lon_max]\n",
    "        if len(df) > 0:\n",
    "            print(daily_fires.acq_date.min(), daily_fires.shape, df.shape)\n",
    "            chunks.append(df)\n",
    "\n",
    "    full_dataset = pd.concat(chunks)\n",
    "    full_dataset.shape\n",
    "    full_dataset.head()\n",
    "\n",
    "    del chunks\n",
    "    gc.collect()\n",
    "\n",
    "    fires = aggregate_month(full_dataset)\n",
    "    fires.shape\n",
    "    fires.head()\n",
    "    fires.to_csv('sa_fires.csv', index=False)\n",
    "    \n",
    "    del full_dataset\n",
    "    gc.collect()\n",
    "    \n",
    "else:\n",
    "    fires = pd.read_csv('sa_fires.csv')"
   ]
  },
  {
   "cell_type": "code",
   "execution_count": null,
   "id": "7a7c27c4",
   "metadata": {},
   "outputs": [],
   "source": [
    "df"
   ]
  },
  {
   "cell_type": "code",
   "execution_count": null,
   "id": "5bf8b03a",
   "metadata": {},
   "outputs": [],
   "source": [
    "fires.info()"
   ]
  },
  {
   "cell_type": "code",
   "execution_count": null,
   "id": "ffbafb08",
   "metadata": {},
   "outputs": [],
   "source": [
    "fires.head()\n",
    "fires.shape"
   ]
  },
  {
   "cell_type": "code",
   "execution_count": null,
   "id": "a98c857c",
   "metadata": {},
   "outputs": [],
   "source": [
    "yearly_fires = fires[fires.year < 2022].groupby(['year', 'month']).sum().reset_index()\n",
    "yearly_fires.head()\n",
    "px.bar(yearly_fires, x='month', y='fire_cnt', color='year',\n",
    "       title='Hotspot detections Worldwide')"
   ]
  },
  {
   "cell_type": "markdown",
   "id": "7a23cdf5",
   "metadata": {},
   "source": [
    "# Satellite Images"
   ]
  },
  {
   "cell_type": "code",
   "execution_count": null,
   "id": "721e00c4",
   "metadata": {},
   "outputs": [],
   "source": [
    "REGION = SOUTH_AMERICA"
   ]
  },
  {
   "cell_type": "code",
   "execution_count": null,
   "id": "5f965377",
   "metadata": {},
   "outputs": [],
   "source": [
    "lats, lons = get_lats_lons(REGION)\n",
    "lats.min(), lats.max()\n",
    "lons.min(), lons.max()\n",
    "lats.shape, lons.shape"
   ]
  },
  {
   "cell_type": "code",
   "execution_count": null,
   "id": "16470bb4",
   "metadata": {},
   "outputs": [],
   "source": [
    "tiles_df = get_tiles_df(REGION)\n",
    "\n",
    "tiles_df.shape\n",
    "tiles_df.head()"
   ]
  },
  {
   "cell_type": "code",
   "execution_count": null,
   "id": "ad17a496",
   "metadata": {},
   "outputs": [],
   "source": [
    "fires_on_map = fires[\n",
    "    (fires.latitude >= tiles_df.lat_min.min()) & \\\n",
    "    (fires.latitude <= tiles_df.lat_max.max()) & \\\n",
    "    (fires.longitude >= tiles_df.lon_min.min()) & \\\n",
    "    (fires.longitude <= tiles_df.lon_max.max()) \n",
    "\n",
    "].copy()\n",
    "fires_on_map.shape\n",
    "fires_on_map.head()"
   ]
  },
  {
   "cell_type": "code",
   "execution_count": null,
   "id": "48472145",
   "metadata": {},
   "outputs": [],
   "source": [
    "del fires\n",
    "gc.collect()"
   ]
  },
  {
   "cell_type": "code",
   "execution_count": null,
   "id": "ebfc03fc",
   "metadata": {},
   "outputs": [],
   "source": [
    "fires_on_map = add_lat_lon_idx_to_fires(fires_on_map, tiles_df, lats, lons)"
   ]
  },
  {
   "cell_type": "code",
   "execution_count": null,
   "id": "6a14a4ae",
   "metadata": {},
   "outputs": [],
   "source": [
    "np.mean(fires_on_map.lat_idx < 0)\n",
    "np.mean(fires_on_map.lon_idx < 0)"
   ]
  },
  {
   "cell_type": "code",
   "execution_count": null,
   "id": "a583d51a",
   "metadata": {},
   "outputs": [],
   "source": [
    "fires_on_map.describe()"
   ]
  },
  {
   "cell_type": "code",
   "execution_count": null,
   "id": "0a0b25f9",
   "metadata": {},
   "outputs": [],
   "source": [
    "fires_on_map.head()"
   ]
  },
  {
   "cell_type": "code",
   "execution_count": null,
   "id": "57bc8129",
   "metadata": {},
   "outputs": [],
   "source": [
    "fires_on_map.info()"
   ]
  },
  {
   "cell_type": "code",
   "execution_count": null,
   "id": "7a6602a7",
   "metadata": {},
   "outputs": [],
   "source": [
    "fires_on_map.to_csv(f'{REGION}_firms.csv', index=False)"
   ]
  },
  {
   "cell_type": "code",
   "execution_count": null,
   "id": "e6bd5612",
   "metadata": {},
   "outputs": [],
   "source": [
    "fires_on_map.fire_cnt.value_counts()"
   ]
  },
  {
   "cell_type": "code",
   "execution_count": null,
   "id": "dee5cacc",
   "metadata": {},
   "outputs": [],
   "source": [
    "end = datetime.now()\n",
    "end.strftime('%Y-%m-%d %H:%M:%S')\n",
    "f'Total time {(end - t0).seconds} (s)'"
   ]
  },
  {
   "cell_type": "markdown",
   "id": "2775467a",
   "metadata": {},
   "source": [
    "# Check fire detections"
   ]
  },
  {
   "cell_type": "code",
   "execution_count": null,
   "id": "1cad1510",
   "metadata": {},
   "outputs": [],
   "source": [
    "CHECK = True\n",
    "if CHECK:\n",
    "    M = np.load(f\"maps/{REGION}-2020-08.npz\")\n",
    "    n_lats, n_lons = FIRECCI_SHAPE[SOUTH_AMERICA]\n",
    "\n",
    "    l1 = M[\"l1\"]\n",
    "    X = cv2.resize(M[\"l1\"], (n_lons, n_lats))\n",
    "    l1.shape\n",
    "    X.shape\n",
    "    lats.shape, lons.shape\n",
    "\n",
    "    fire_map = np.zeros(X.shape)\n",
    "    fire_pixels = fires_on_map.groupby(['lat_idx', 'lon_idx']).fire_cnt.sum().reset_index()\n",
    "    for i, j, v in tqdm(fire_pixels.values):\n",
    "        fire_map[i, j] = v\n",
    "\n",
    "    fire_map.mean()\n",
    "    fire_map[fire_map > 1].mean()"
   ]
  },
  {
   "cell_type": "code",
   "execution_count": null,
   "id": "27dd62e2",
   "metadata": {},
   "outputs": [],
   "source": [
    "if CHECK:\n",
    "    fig = plt.figure(figsize=(20, 20))\n",
    "    plt.imshow(fire_map, cmap = plt.cm.inferno, vmin=0, vmax=2)\n",
    "    plt.colorbar()\n",
    "    plt.show();"
   ]
  },
  {
   "cell_type": "code",
   "execution_count": null,
   "id": "5cd11227",
   "metadata": {},
   "outputs": [],
   "source": [
    "end = datetime.now()\n",
    "end.strftime('%Y-%m-%d %H:%M:%S')\n",
    "f'Total time {(end - t0).seconds} (s)'"
   ]
  }
 ],
 "metadata": {
  "kernelspec": {
   "display_name": "Python 3 (ipykernel)",
   "language": "python",
   "name": "python3"
  },
  "language_info": {
   "codemirror_mode": {
    "name": "ipython",
    "version": 3
   },
   "file_extension": ".py",
   "mimetype": "text/x-python",
   "name": "python",
   "nbconvert_exporter": "python",
   "pygments_lexer": "ipython3",
   "version": "3.8.0"
  }
 },
 "nbformat": 4,
 "nbformat_minor": 5
}
